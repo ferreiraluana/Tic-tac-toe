{
 "cells": [
  {
   "cell_type": "markdown",
   "metadata": {},
   "source": [
    "# Tic Tac Toe\n",
    "### For two human players"
   ]
  },
  {
   "cell_type": "code",
   "execution_count": null,
   "metadata": {},
   "outputs": [],
   "source": [
    "from IPython.display import clear_output"
   ]
  },
  {
   "cell_type": "code",
   "execution_count": null,
   "metadata": {},
   "outputs": [],
   "source": [
    "player1 = {'name':'','symbol':'X'}\n",
    "player2 = {'name':'','symbol':'O'}\n",
    "endGame = False\n",
    "grid = [\" \",\" \",\" \",\" \",\" \",\" \",\" \",\" \",\" \"]"
   ]
  },
  {
   "cell_type": "code",
   "execution_count": null,
   "metadata": {},
   "outputs": [],
   "source": [
    "def start(player1, player2):\n",
    "    print(\".......................\")\n",
    "    print(\"Welcome to Tic Tac Toe\")\n",
    "    print(\".......................\")\n",
    "    player1['name'] = input(\"Enter player 1 name:\")\n",
    "    player2['name'] = input(\"Enter player 2 name:\")\n",
    "    print(\".......................\")\n",
    "    print(\"X: \"+player1['name'])\n",
    "    print(\"O: \"+player2['name'])\n",
    "    print(\".......................\")"
   ]
  },
  {
   "cell_type": "code",
   "execution_count": null,
   "metadata": {},
   "outputs": [],
   "source": [
    "def gridGuide():\n",
    "    print(\"   |   |   \")\n",
    "    print(\" 7 | 8 | 9 \")\n",
    "    print(\"-----------\")\n",
    "    print(\"   |   |   \")\n",
    "    print(\" 4 | 5 | 6 \")\n",
    "    print(\"-----------\")\n",
    "    print(\"   |   |   \")\n",
    "    print(\" 1 | 2 | 3 \")"
   ]
  },
  {
   "cell_type": "code",
   "execution_count": null,
   "metadata": {},
   "outputs": [],
   "source": [
    "def displayGrid(grid):\n",
    "    print(\"   |   |   \")\n",
    "    print(\" grid[8] | grid[7] | grid[6] \")\n",
    "    print(\"-----------\")\n",
    "    print(\"   |   |   \")\n",
    "    print(\" grid[3] | grid[4] | grid[5] \")\n",
    "    print(\"-----------\")\n",
    "    print(\"   |   |   \")\n",
    "    print(\" grid[0] | grid[1] | grid[2] \")\n",
    "    "
   ]
  },
  {
   "cell_type": "code",
   "execution_count": null,
   "metadata": {},
   "outputs": [],
   "source": [
    "def play(player, grid):\n",
    "    print(\".......................\")\n",
    "    position = int(input(player['name']+\", choose a position between 1-9:\"))\n",
    "    \n",
    "    if(grid[position]==\" \")    \n",
    "        grid[position] = player['symbol']\n",
    "    else:\n",
    "        print(\"Position unavailable. Try again!\")\n",
    "        play(player, gridStatus)\n",
    "    "
   ]
  },
  {
   "cell_type": "code",
   "execution_count": null,
   "metadata": {},
   "outputs": [],
   "source": [
    "def verifyGrid(grid, player1, player2, endGame):\n",
    "    if(grid[0]==grid[1]==grid[2] or grid[3]==grid[4]==grid[5] or grid[6]==grid[7]==grid[8]\n",
    "      or grid[0]==grid[3]==grid[6] or grid[1]==grid[4]==grid[7] or grid[2]==grid[5]==grid[8]\n",
    "      or grid[0]==grid[4]==grid[8] or grid[2]==grid[4]==grid[6]):\n",
    "        if(grid[0]==player1['symbol']):\n",
    "            endGame == True\n",
    "            return player1['name']\n",
    "        elif(grid[0]==player2['symbol']):\n",
    "            endGame == True\n",
    "            return player2['name']\n",
    "        \n",
    "    return 'No winners so far'\n",
    "        "
   ]
  },
  {
   "cell_type": "markdown",
   "metadata": {},
   "source": [
    "### Main starts here"
   ]
  },
  {
   "cell_type": "code",
   "execution_count": null,
   "metadata": {},
   "outputs": [],
   "source": [
    "start(player1, player2)\n",
    "while(endGame == False):\n",
    "    gridGuide()\n",
    "    displayGrid()\n",
    "    play(player1, grid)\n",
    "    displayGrid()\n",
    "    play(player2, grid)\n",
    "    displayGrid()\n",
    "    print(verifyGrid(grid, player1, player2, endGame))\n",
    "    clear_output()\n",
    "    "
   ]
  },
  {
   "cell_type": "code",
   "execution_count": null,
   "metadata": {},
   "outputs": [],
   "source": []
  }
 ],
 "metadata": {
  "kernelspec": {
   "display_name": "Python 3",
   "language": "python",
   "name": "python3"
  },
  "language_info": {
   "codemirror_mode": {
    "name": "ipython",
    "version": 3
   },
   "file_extension": ".py",
   "mimetype": "text/x-python",
   "name": "python",
   "nbconvert_exporter": "python",
   "pygments_lexer": "ipython3",
   "version": "3.7.0"
  }
 },
 "nbformat": 4,
 "nbformat_minor": 2
}
